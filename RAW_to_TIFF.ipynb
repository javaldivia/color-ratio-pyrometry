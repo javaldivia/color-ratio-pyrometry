{
 "cells": [
  {
   "cell_type": "markdown",
   "id": "9c8ec40c-63e1-4b4d-90ae-7cbe5dac13f4",
   "metadata": {},
   "source": [
    "# Convert RAW Files to TIFF Files\n",
    "\n",
    "This script automates the process of converting RAW image files from the SONY RX10 IV camera to TIFF format. It works by iterating over temperature folders (e.g., 650, 700, ..., 1200), processing each RAW file within those folders, and saving the converted TIFF files to a corresponding results folder.\n",
    "\n",
    "### Steps:\n",
    "1. Iterates over folders named with numeric temperature values (e.g., 650, 700, ..., 1200).\n",
    "2. Lists all `.ARW` (RAW) files in each folder and extracts the metadata.\n",
    "3. Converts each `.ARW` file to a `.TIFF` file.\n",
    "4. Saves the converted TIFF files into the corresponding `results_folder`.\n",
    "\n",
    "### Versions:\n",
    "- **Version 0.1**: 12/22/2023  \n",
    "  Initial release.\n",
    "\n",
    "- **Version 0.2**: 01/05/2023  \n",
    "  Added background conversion from RAW to TIFF (not always required).\n",
    "\n",
    "- **Version 0.3**: 02/10/2024  \n",
    "  - Included `-q 1` in DCRAW arguments for Variable Number of Gradients (VNG) interpolation.\n",
    "  - Checks only numeric string folders for iteration.\n",
    "  - Saves the resulting `.tiff` files into a `results_folder`.\n",
    "\n",
    "### Requirements:\n",
    "- DCRAW for RAW to TIFF conversion (install separately).\n",
    "- Python environment with necessary libraries (e.g., `os`, `glob`).\n",
    "\n",
    "### Acknowledgments:\n",
    "\n",
    "This script uses [DCRAW](https://www.dechifro.org/dcraw/) for converting RAW files to TIFF."
   ]
  },
  {
   "cell_type": "code",
   "execution_count": 1,
   "id": "864f0d82-ae2b-42d0-a92f-2f3a9ba30133",
   "metadata": {},
   "outputs": [],
   "source": [
    "import argparse\n",
    "import subprocess as sp\n",
    "import os\n",
    "from os import listdir\n",
    "from os.path import isfile, join,exists, isdir\n",
    "import glob\n",
    "from glob import iglob\n",
    "import sys\n",
    "import pyexiv2\n",
    "from datetime import datetime\n",
    "\n",
    "today_date = datetime.now().strftime('%m_%d_%Y')"
   ]
  },
  {
   "cell_type": "code",
   "execution_count": 2,
   "id": "5abe118b-6bf5-4520-90be-8b4f838646ac",
   "metadata": {},
   "outputs": [],
   "source": [
    "# DCRAW path & arguments for conversion\n",
    "main_path = os.getcwd()\n",
    "dcraw_path = main_path\n",
    "dcraw_args = \" -v -T -4 -q 1\""
   ]
  },
  {
   "cell_type": "code",
   "execution_count": 3,
   "id": "8ef10372-8b47-4195-8f4f-659c8add8ed7",
   "metadata": {},
   "outputs": [],
   "source": [
    "# Directory of images & results\n",
    "main_folder = os.path.join(main_path , 'img')\n",
    "\n",
    "results_folder = os.path.join(main_folder, 'Results_DCRAW_' + today_date)\n",
    "os.makedirs(results_folder, exist_ok=True)\n",
    "\n",
    "# To check if directory is numeric (temperature)\n",
    "def is_numeric(s):\n",
    "    return s.isdigit()"
   ]
  },
  {
   "cell_type": "code",
   "execution_count": 7,
   "id": "5f36eb4c-d87b-4d2d-b266-31aa7715b3f7",
   "metadata": {},
   "outputs": [
    {
     "name": "stdout",
     "output_type": "stream",
     "text": [
      "\n",
      "Processing files in folder: 650\n",
      "Processing file: Cal00372.ARW\n",
      "[======              ] 33%Processing file: Cal00373.ARW\n",
      "[=============       ] 66%Processing file: Cal00374.ARW\n",
      "[====================] 100%\n",
      "Conversion completed for folder: C:\\Users\\Jorge\\OneDrive - Worcester Polytechnic Institute (wpi.edu)\\GitHub\\color-ratio-pyrometry\\img\\650\n",
      "\n",
      "Processing files in folder: 700\n",
      "Processing file: Cal00412.ARW\n",
      "[======              ] 33%Processing file: Cal00413.ARW\n",
      "[=============       ] 66%Processing file: Cal00414.ARW\n",
      "[====================] 100%\n",
      "Conversion completed for folder: C:\\Users\\Jorge\\OneDrive - Worcester Polytechnic Institute (wpi.edu)\\GitHub\\color-ratio-pyrometry\\img\\700\n"
     ]
    }
   ],
   "source": [
    "# Iterate through subdirectories in the main folder\n",
    "for subfolder in iglob(os.path.join(main_folder, '*'), recursive=False):\n",
    "    if os.path.isdir(subfolder) and is_numeric(os.path.basename(subfolder)):\n",
    "        print(f\"\\nProcessing files in folder: {os.path.basename(subfolder)}\")\n",
    "        \n",
    "        # List all .ARW files in the subfolder\n",
    "        arw_files = [f for f in iglob(os.path.join(subfolder, '*.ARW')) if os.path.isfile(f)]\n",
    "\n",
    "        for idx, arw_file in enumerate(arw_files):\n",
    "            print(f\"Processing file: {os.path.basename(arw_file)}\")\n",
    "\n",
    "            # Run DCRAW to convert the RAW file to TIFF\n",
    "            sp.call(dcraw_path + \"\\\\dcraw \" + dcraw_args + ' \"' + arw_file + '\"')\n",
    "\n",
    "            # Get the corresponding .JPG file and create the TIFF file path\n",
    "            jpg_file = os.path.splitext(arw_file)[0] + \".JPG\"\n",
    "            tiff_file = os.path.join(subfolder, os.path.basename(os.path.splitext(arw_file)[0] + \".tiff\").replace(\"\\\\\", \"\\\\\\\\\"))\n",
    "\n",
    "            # Move the result to the Results_DCRAW folder\n",
    "            result_path = os.path.join(results_folder, os.path.basename(subfolder), os.path.basename(tiff_file))\n",
    "            os.makedirs(os.path.dirname(result_path), exist_ok=True)\n",
    "            os.rename(tiff_file, result_path)\n",
    "\n",
    "            # Progress display\n",
    "            progress_step = 20\n",
    "            progress = (idx + 1) * progress_step // len(arw_files)\n",
    "            sys.stdout.write('\\r')\n",
    "            sys.stdout.write(\"[%-20s] %d%%\" % ('=' * progress, 100 * (idx + 1) // len(arw_files)))\n",
    "            sys.stdout.flush()\n",
    "\n",
    "            # Transfer metadata from JPG to TIFF if JPG exists\n",
    "            if os.path.exists(jpg_file):\n",
    "                with pyexiv2.Image(jpg_file) as img:\n",
    "                    jpg_data = img.read_exif()\n",
    "\n",
    "                with pyexiv2.Image(result_path) as img:\n",
    "                    data = img.read_exif()\n",
    "                    img.modify_exif({'Exif.Photo.ExposureTime': jpg_data[\"Exif.Photo.ExposureTime\"],\n",
    "                                     'Exif.Photo.ISOSpeedRatings': jpg_data[\"Exif.Photo.ISOSpeedRatings\"],\n",
    "                                     'Exif.Photo.FNumber': jpg_data[\"Exif.Photo.FNumber\"]})\n",
    "\n",
    "        print(f\"\\nConversion completed for folder: {subfolder}\")"
   ]
  },
  {
   "cell_type": "code",
   "execution_count": null,
   "id": "be46c012-a94d-4cc1-bcbe-c685036a010e",
   "metadata": {},
   "outputs": [],
   "source": []
  }
 ],
 "metadata": {
  "kernelspec": {
   "display_name": "Python 3 (ipykernel)",
   "language": "python",
   "name": "python3"
  },
  "language_info": {
   "codemirror_mode": {
    "name": "ipython",
    "version": 3
   },
   "file_extension": ".py",
   "mimetype": "text/x-python",
   "name": "python",
   "nbconvert_exporter": "python",
   "pygments_lexer": "ipython3",
   "version": "3.11.3"
  }
 },
 "nbformat": 4,
 "nbformat_minor": 5
}
